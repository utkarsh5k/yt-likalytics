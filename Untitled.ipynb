{
 "cells": [
  {
   "cell_type": "code",
   "execution_count": 1,
   "metadata": {
    "collapsed": false
   },
   "outputs": [
    {
     "name": "stderr",
     "output_type": "stream",
     "text": [
      "/Users/apple/anaconda2/envs/precog/lib/python2.7/site-packages/sklearn/cross_validation.py:44: DeprecationWarning: This module was deprecated in version 0.18 in favor of the model_selection module into which all the refactored classes and functions are moved. Also note that the interface of the new CV iterators are different from that of this module. This module will be removed in 0.20.\n",
      "  \"This module will be removed in 0.20.\", DeprecationWarning)\n"
     ]
    }
   ],
   "source": [
    "import matplotlib as plt\n",
    "import numpy as np\n",
    "import pandas as pd\n",
    "\n",
    "from scipy.stats import mode\n",
    "\n",
    "from sklearn.preprocessing import LabelEncoder\n",
    "from sklearn.cross_validation import KFold\n",
    "from sklearn.tree import DecisionTreeClassifier, export_graphviz\n",
    "from sklearn import metrics"
   ]
  },
  {
   "cell_type": "code",
   "execution_count": 67,
   "metadata": {
    "collapsed": true
   },
   "outputs": [],
   "source": [
    "def inp():\n",
    "\tf = open(\"data.csv\", \"r\")\n",
    "\tdf = pd.read_csv(f)\n",
    "\tdf.rename(columns={'Unnamed: 0': 'S_No'}, inplace=True)\n",
    "\treturn df"
   ]
  },
  {
   "cell_type": "code",
   "execution_count": 68,
   "metadata": {
    "collapsed": false
   },
   "outputs": [
    {
     "name": "stdout",
     "output_type": "stream",
     "text": [
      "  S_No categoryId                 channelId      channelTitle  \\\n",
      "0    0         17  UCiVg6vRhuyjsWgHkDNOig6A    BeanymanSports   \n",
      "1    1         22  UCQrlxwscx_mtWLFZg_bMGFg       Premierteam   \n",
      "2    2         17  UCcmYYg3Rzfg3x8HKG5FhbtA       sportsUwant   \n",
      "3    3         22  UCMmVPVb0BwSIOWVeDwlPocQ  The United Stand   \n",
      "4    4         17  UCdfEuCGoVdDIbkiqC_RppgQ    iKhoStyle7i HD   \n",
      "\n",
      "  channel_subscriber_count channel_video_count channel_view_count  \\\n",
      "0                   156783                2302           99212423   \n",
      "1                    23735                  32            4709173   \n",
      "2                     1189                  59            1597342   \n",
      "3                    63688                 435           12690526   \n",
      "4                    28817                 211           17045787   \n",
      "\n",
      "  commentCount defaultAudioLanguage definition    ...     \\\n",
      "0          264                en-GB         hd    ...      \n",
      "1           24                  NaN         hd    ...      \n",
      "2           16                  NaN         sd    ...      \n",
      "3          382                  NaN         hd    ...      \n",
      "4           13                  NaN         hd    ...      \n",
      "\n",
      "                                           localized privacyStatus  \\\n",
      "0  {u'description': u'Post-match press conference...        public   \n",
      "1  {u'description': u'Zlatan Ibrahimović is a Swe...        public   \n",
      "2  {u'description': u'SUBSCRIBE TO MY CHANNEL !',...        public   \n",
      "3  {u'description': u'Manchester United vs Liverp...        public   \n",
      "4  {u'description': u'Zlatan Ibrahimović All Goal...        public   \n",
      "\n",
      "    projection publicStatsViewable               publishedAt  \\\n",
      "0  rectangular                True  2017-01-15T19:19:20.000Z   \n",
      "1  rectangular                True  2017-01-15T18:16:41.000Z   \n",
      "2  rectangular                True  2017-01-15T18:47:18.000Z   \n",
      "3  rectangular               False  2017-01-15T19:02:56.000Z   \n",
      "4  rectangular               False  2017-01-15T22:21:34.000Z   \n",
      "\n",
      "  regionRestriction                                               tags  \\\n",
      "0               NaN  [Football, Soccer, Beanyman, BeanymanSports, m...   \n",
      "1               NaN  [Ibra, ibrahimovic, zlatan, ibrahimovic goal, ...   \n",
      "2               NaN  [PREMIER, LEAGUE, PRESS, CONFERENCE, MANCHESTE...   \n",
      "3               NaN  [Manchester United vs Liverpool, Manchester Un...   \n",
      "4               NaN  [Zlatan Ibrahimović All Goals | Manchester Uni...   \n",
      "\n",
      "                                               title         v_id viewCount  \n",
      "0  Manchester United 1-1 Liverpool - Jose Mourinh...  69_FxIbE9Wk     63415  \n",
      "1  Zlatan Ibrahimovic ● All 20 Goals for MANCHEST...  ofbaRS29ULI     17833  \n",
      "2  Manchester United 1:1 Liverpool Full Post Matc...  _5tKgyAOQDU      9791  \n",
      "3  Manchester United vs Liverpool 1-1 | ZLATAN GO...  yZxhIWueNy8     45218  \n",
      "4  Zlatan Ibrahimović All Goals | Manchester Unit...  iVPIZtqeQNk     17743  \n",
      "\n",
      "[5 rows x 26 columns]\n",
      "Shape of dataframe is (2705, 26)\n",
      "['S_No' 'categoryId' 'channelId' 'channelTitle' 'channel_subscriber_count'\n",
      " 'channel_video_count' 'channel_view_count' 'commentCount'\n",
      " 'defaultAudioLanguage' 'definition' 'description' 'dislikeCount'\n",
      " 'duration' 'favoriteCount' 'likeCount' 'liveBroadcastContent' 'localized'\n",
      " 'privacyStatus' 'projection' 'publicStatsViewable' 'publishedAt'\n",
      " 'regionRestriction' 'tags' 'title' 'v_id' 'viewCount']\n"
     ]
    }
   ],
   "source": [
    "df = inp()\n",
    "df.dropna(subset=['v_id'])\n",
    "print df.head()\n",
    "print \"Shape of dataframe is \" + str(df.shape)\n",
    "print df.columns.values"
   ]
  },
  {
   "cell_type": "code",
   "execution_count": 69,
   "metadata": {
    "collapsed": false
   },
   "outputs": [
    {
     "name": "stdout",
     "output_type": "stream",
     "text": [
      "audio['en-GB' nan 'de' 'en' 'pt' 'defaultAudioLanguage' 'nl' 'en-US' 'sv' 'pl'\n",
      " 'contentRating' \"{u'ytRating': u'ytAgeRestricted'}\" 'es-419' 'fr' 'ru'\n",
      " 'es' 'zxx' 'hi-Latn' 'ur' 'hi' 'rectangular' 'ko' 'zh-TW' 'en-CA' 'pt-BR'\n",
      " 'th' 'tr' 'te']\n",
      "definition['hd' 'sd' 'definition' 'defaultAudioLanguage' nan 'en' 'sr' 'zxx' 'en-GB'\n",
      " 'ru' 'True']\n",
      "projection['rectangular' 'projection' 'privacyStatus' 'public' nan '360']\n",
      "live['none' 'liveBroadcastContent' 'likeCount' '8989' '20160' '1686' '4400'\n",
      " '127' '376' '131' '940840' '2962' '39804' '264' '46629' '363' '46870'\n",
      " '67333' '55976' '192732' '67154' '48941' '304' '925' '1733' '491846'\n",
      " '15260' '1236' '4185' '29358' '55779' '3213' '114' '62599' '7145' '11123'\n",
      " '773' '1600' '1026' '84733' '690' '65716' '320193' '976' '387' '89044'\n",
      " '449' '4566' '516' '164497' '749' '711' '4406' nan 'live']\n",
      "category['17' '22' '20' '24' '27' '23' 'categoryId' '1' '10' '25' '43' '607' nan\n",
      " '389' '28' '29' '26' '19' '30' '2' '15']\n",
      "likes['474' '331' '27' ..., '31067' '1227' '1214']\n",
      "comments['264' '24' '16' ..., '578' '8638' '27825']\n",
      "channel subscriber['156783' '23735' '1189' ..., '3730747' '5065' '24398']\n",
      "channel view['99212423' '4709173' '1597342' ..., '354141329' '3815682' '10621060']\n",
      "channel video['2302' '32' '59' '435' '211' '30' '133' '1863' '3883' '1250' '4' '2646'\n",
      " '127' '66' '436' '62' '24937' '289' '136' '14' '111' '380' '138' '155'\n",
      " '102' '143' '499' '80' '50' '3156' '189' '1898' '43' 'channel_video_count'\n",
      " '698' '783' '329' '86' '2996' '1364' '83' '547' '6215' '147' '201' '169'\n",
      " '313' '1700' '167' '164' '56' '95' '94' '2428' '2099' '24' '73' '99' '93'\n",
      " '196' '89' '3135' '1639' '67' '64' '539' '337' '5692' '110' '6616' '52'\n",
      " '1190' '5' '13964' '178' '16' '11384' '21008' '2142' '827' '295' '1593'\n",
      " '45' '420' '936' '535' '128' '17260' '9629' '285' '2249' '1667' '38'\n",
      " '3273' '8' '85' '46' '231' '246' '36' '71' '1' '69' '61' '27' '364' '241'\n",
      " '1525' '130' '6352' '1150' '5279' '444' '3818' '919' '125' '92' '239'\n",
      " '1961' '1900' '2186' '8399' '53' '212' '649' '400' '97' '847' '2016'\n",
      " '1885' '1114' '554' '659' '294' '68' '1014' '352' '2373' '1905' '2168'\n",
      " '724' '9' '653' '1329' '430' '3129' '1573' '510' '3558' '6227' '1421'\n",
      " '307' '806' '1772' '1637' '2293' '1967' '137' '116' '1422' '1345' '2309'\n",
      " '960' '2187' '4100' '746' '2926' '2238' '2979' '1623' '5271' '320' '326'\n",
      " '2377' '2317' '662' '424' '17' '507' '5070' '21' '148' '25' '27111' '18'\n",
      " '141' '140' '41' '1189' '37' '10' '55' '170' '345' '48365' '194' '5378'\n",
      " '11786' '1049' '987' '78' '2989' '312' '13525' '3175' '12' '3375' '443'\n",
      " '274' '6405' '135' '1583' '88' '40' '215' '33' '39' '72' '22' '3' '382'\n",
      " '459' '598' '31' '4584' '6' '52304' '177' '221' '282' '20438' '404' '2772'\n",
      " '144' '65' '115' '7266' '3283' '74' '82' '117' '13' '2093' '172' '11'\n",
      " '180' '505' 'none' nan '349' '38734' '339' '30428' '892' '896' '16526'\n",
      " '1826' '17499' '3966' '51752' '3741' '48' '0' '260' '418' '4177' '7379'\n",
      " '4987' '308' '9617' '39903' '12174' '3404' '1360' '250' '3098' '504'\n",
      " '36088' '132576' '23650' '27542' '6087' '299' '2346' '14337' '5613' '9161'\n",
      " '800' '171' '1260' '4214' '51160' '2713' '1815' '5942' '6896' '5719'\n",
      " '29378' '105' '225' '16223' '864' '616' '1430' '792' '1156' '399' '6576'\n",
      " '5052' '11075' '44445' '1752' '15297' '350' '351' '1272' '407' '263'\n",
      " '17422' '3019' '255' '3754' '3779' '4021' '370' '1058' '971' '267' '691'\n",
      " '2459' '1921' '778' '1193' '1174' '1268' '228' '4132' '287' '35' '2731'\n",
      " '145' '738' '804' '81' '394' '1171' '1880' '6534' '813' '1695' '1480' '15'\n",
      " '3414' '153' '2085' '595' '602' '229' '1813' '96' '322' '365' '4763' '573'\n",
      " '120221' '836' '652' '159' '237' '8313' '426' '401' '1712' '278' '687'\n",
      " '162' '58' '1074' '878' '235' '223' '715' '1504' '242' '911' '335' '291'\n",
      " '457' '742' '560' '918' '584' '608' '620' '1245' '6327' '142' '1269' '483'\n",
      " '379' '55701' '1214' '405' '2295' '98' '557' '85622' '1788' '288' '114'\n",
      " '697' '1537' '1368' '3344' '7154' '1109' '104' '2421' '1051' '219' '184'\n",
      " '226' '447' '1891' '1976' '3721' '6847' '75' '7782' '18224' '12359'\n",
      " '13373' '643' '623' '22163' '23901' '14854' '5614' '3084' '469' '6042'\n",
      " '34' '4794' '431' '2765' '1482' '678' '10264' '269' '28865' '884' '3682'\n",
      " '521' '6210' '236' '9566' '87' '1999' '814' '487' '5980' '471' '6044'\n",
      " '555' '846' '599' '2058' '109' '49' '513' '185' '906' '1028' '881' '243'\n",
      " '999' '2' '60288' '13149' '774' '3498' '57' '8267' '9978' '2283' '266'\n",
      " '7219' '205' '23' '161' '15088' '8738' '2759' '3451' '575' '961' '856'\n",
      " '6575' '119' '679' '1948' '2839' '1064' '3639' '1825' '54216' '3539' '290'\n",
      " '11358' '218' '51' '95213' '63505' '9326' '845' '5976' '6126' '3829'\n",
      " '1081' '1886' '129' '2350' '551' '651' '855' '2327' '3328' '1988' '2017'\n",
      " '1541' '1955' '967' '90' '298' '120' '757' '54' '348' '954' '206' '585'\n",
      " '782' '12117' '28' '346' '1775' '3743' '4742' '355' '9771' '305' '8527'\n",
      " '107' '176' '152' '1339' '681' '190' '410' '323' '220' '572' '9012' '957'\n",
      " '1131' '886' '70' '314' '1477' '640' '2216' '810' '2529' '2555' '84' '199'\n",
      " '1615' '5267' '1601' '311' '240' '1394' '3119' '514' '186' '1270' '1419'\n",
      " '951' '375' '7' '541' '754' '20638' '448' '4009' '284' '366' '959' '780'\n",
      " '26' '150' '578' '131' '412' '1220' '446' '1340' '1938' '589' '100' '44'\n",
      " '29' '3552' '1145' '10229' '2087' '458' '200' '454' '60' '2081' '63' '160'\n",
      " '8524' '631' '1163' '4513' '106' '1127' '590' '830' '214' '69378' '4877'\n",
      " '566' '6343' '158' '367' '937' '929' '47' '384' '1034' '1137' '1175'\n",
      " '1431' '19' '671' '946' '852' '208' '1901' '2582' '2372' '277' '526' '126'\n",
      " '1973' '122' '1044' '642' '124' '2725' '1594' '11520' '29347' '7079'\n",
      " '53128' '42' '54887' '15084' '327' '15796' '51579' '361' '57428' '7442'\n",
      " '2747' '46780' '47587' '67524' '7721' '13313' '1696' '4704' '53996' '1123'\n",
      " '4887' '179' '988' '77' '146' '217' '1849' '121' '1211' '363' '20' '16505'\n",
      " '2586' '4745' '249' '91' '1062' '253' '321' '2412' '2921' '1747' '1169'\n",
      " '5081' '490' '969' '512' '902' '9155' '492' '2930' '5029' '233' '2224'\n",
      " '2637' '714' '481' '1479' '2882' '1313' '1488' '2934' '495' '60481' '9579'\n",
      " '95214' '360' '5370' '230' '66111' '3353' '18228' '4796' '2887' '3051'\n",
      " '2691' '3363' '268' '29980' '252' '5615' '1835' '7698' '347' '1632' '592'\n",
      " '107435' '1462' '1782' '173' '16355' '5179' '37817' '966' '1222']\n",
      "dislike['55' '5' '4' ..., '7226' '26584' '2515']\n",
      "fave['0' 'favoriteCount' 'duration' 'PT2H46M11S' 'PT3M47S' 'PT21M21S'\n",
      " 'PT19M56S' 'PT11M27S' 'PT14M9S' 'PT3H4M6S' 'PT2M38S' 'PT5M11S'\n",
      " 'PT3H31M50S' 'PT18M15S' 'PT2H19M11S' 'PT6M49S' 'PT1H58M15S' 'PT2M10S'\n",
      " 'PT2H24M54S' 'PT4M46S' 'PT15M14S' 'PT5M53S' 'PT6M55S' 'PT1M9S' 'PT26M23S'\n",
      " 'PT2M59S' 'PT16M9S' 'PT12M24S' 'PT2H55M20S' 'PT15M19S' 'PT22M14S'\n",
      " 'PT27M10S' 'PT16M24S' 'PT25M1S' 'PT6M27S' 'PT10M55S' 'PT4M2S' 'PT19M29S'\n",
      " 'PT2H37M12S' 'PT26M57S' 'PT16M35S' 'PT50M54S' 'PT3M4S' 'PT11M22S'\n",
      " 'PT13M56S' 'PT37M31S' 'PT20M7S' 'PT3M40S' 'PT16M16S' 'PT6M46S' 'PT11M48S'\n",
      " 'PT15M12S' 'PT25M29S' nan 'hSmNg2WGXeQ' 'WA58zPMYfTE']\n",
      "view['63415' '17833' '9791' ..., '6492226' '141061' '41009']\n"
     ]
    }
   ],
   "source": [
    "print \"audio\" + str(pd.unique(df.defaultAudioLanguage.ravel()))\n",
    "print \"definition\" + str(pd.unique(df.definition.ravel()))\n",
    "print \"projection\" + str(pd.unique(df.projection.ravel()))\n",
    "print \"live\" + str(pd.unique(df.liveBroadcastContent.ravel()))\n",
    "print \"category\" + str(pd.unique(df.categoryId.ravel()))\n",
    "print \"likes\" + str(pd.unique(df.likeCount.ravel()))\n",
    "print \"comments\" + str(pd.unique(df.commentCount.ravel()))\n",
    "print \"channel subscriber\" + str(pd.unique(df.channel_subscriber_count.ravel()))\n",
    "print \"channel view\" + str(pd.unique(df.channel_view_count.ravel()))\n",
    "print \"channel video\" + str(pd.unique(df.channel_video_count.ravel()))\n",
    "print \"dislike\" + str(pd.unique(df.dislikeCount.ravel()))\n",
    "print \"fave\" + str(pd.unique(df.favoriteCount.ravel()))\n",
    "print \"view\" + str(pd.unique(df.viewCount.ravel()))\n"
   ]
  },
  {
   "cell_type": "code",
   "execution_count": 70,
   "metadata": {
    "collapsed": false
   },
   "outputs": [
    {
     "data": {
      "text/plain": [
       "S_No                          52\n",
       "categoryId                     1\n",
       "channelId                      1\n",
       "channelTitle                   1\n",
       "channel_subscriber_count       1\n",
       "channel_video_count            1\n",
       "channel_view_count             1\n",
       "commentCount                  54\n",
       "defaultAudioLanguage        1459\n",
       "definition                    31\n",
       "description                   67\n",
       "dislikeCount                  15\n",
       "duration                       3\n",
       "favoriteCount                  3\n",
       "likeCount                     15\n",
       "liveBroadcastContent           5\n",
       "localized                      5\n",
       "privacyStatus                  5\n",
       "projection                     5\n",
       "publicStatsViewable            5\n",
       "publishedAt                    5\n",
       "regionRestriction           1359\n",
       "tags                         152\n",
       "title                          5\n",
       "v_id                           5\n",
       "viewCount                   1176\n",
       "dtype: int64"
      ]
     },
     "execution_count": 70,
     "metadata": {},
     "output_type": "execute_result"
    }
   ],
   "source": [
    "df.apply(lambda x: sum(x.isnull()),axis=0)"
   ]
  },
  {
   "cell_type": "code",
   "execution_count": 71,
   "metadata": {
    "collapsed": false
   },
   "outputs": [
    {
     "name": "stdout",
     "output_type": "stream",
     "text": [
      "privacy['public' 'localized' 'unlisted']\n"
     ]
    }
   ],
   "source": [
    "privacyOptions = ['public', 'private', 'unlisted', 'localized']\n",
    "df.privacyStatus = df.privacyStatus.replace(to_replace=df.privacyStatus[~df.privacyStatus.isin(privacyOptions)], value='public')\n",
    "print \"privacy\" + str(pd.unique(df.privacyStatus.ravel()))"
   ]
  },
  {
   "cell_type": "code",
   "execution_count": 72,
   "metadata": {
    "collapsed": false
   },
   "outputs": [],
   "source": [
    "def_map_dict = {'public':2, 'sd':1, 'defaultAudioLanguage':0}\n",
    "df.definition = df.definition.map(def_map_dict)"
   ]
  },
  {
   "cell_type": "code",
   "execution_count": 73,
   "metadata": {
    "collapsed": true
   },
   "outputs": [],
   "source": [
    "privacy_map_dict = {'public':3, 'localized':2, 'unlisted':1}\n",
    "df.privacyStatus = df.privacyStatus.map(privacy_map_dict)"
   ]
  },
  {
   "cell_type": "code",
   "execution_count": 74,
   "metadata": {
    "collapsed": false
   },
   "outputs": [
    {
     "name": "stdout",
     "output_type": "stream",
     "text": [
      "privacy[3 2 1]\n"
     ]
    }
   ],
   "source": [
    "print \"privacy\" + str(pd.unique(df.privacyStatus.ravel()))"
   ]
  },
  {
   "cell_type": "code",
   "execution_count": 75,
   "metadata": {
    "collapsed": false
   },
   "outputs": [
    {
     "ename": "ValueError",
     "evalue": "could not convert string to float: channel_view_count",
     "output_type": "error",
     "traceback": [
      "\u001b[0;31m---------------------------------------------------------------------------\u001b[0m",
      "\u001b[0;31mValueError\u001b[0m                                Traceback (most recent call last)",
      "\u001b[0;32m<ipython-input-75-07cd5d0eddaa>\u001b[0m in \u001b[0;36m<module>\u001b[0;34m()\u001b[0m\n\u001b[0;32m----> 1\u001b[0;31m \u001b[0mdf\u001b[0m\u001b[0;34m[\u001b[0m\u001b[0;34m[\u001b[0m\u001b[0;34m'channel_view_count'\u001b[0m\u001b[0;34m]\u001b[0m\u001b[0;34m]\u001b[0m \u001b[0;34m=\u001b[0m \u001b[0mdf\u001b[0m\u001b[0;34m[\u001b[0m\u001b[0;34m[\u001b[0m\u001b[0;34m'channel_view_count'\u001b[0m\u001b[0;34m]\u001b[0m\u001b[0;34m]\u001b[0m\u001b[0;34m.\u001b[0m\u001b[0mastype\u001b[0m\u001b[0;34m(\u001b[0m\u001b[0mfloat\u001b[0m\u001b[0;34m)\u001b[0m\u001b[0;34m\u001b[0m\u001b[0m\n\u001b[0m\u001b[1;32m      2\u001b[0m \u001b[0;32mprint\u001b[0m \u001b[0mdtype\u001b[0m\u001b[0;34m(\u001b[0m\u001b[0mdf\u001b[0m\u001b[0;34m.\u001b[0m\u001b[0mchannel_view_count\u001b[0m\u001b[0;34m)\u001b[0m\u001b[0;34m\u001b[0m\u001b[0m\n",
      "\u001b[0;32m/Users/apple/anaconda2/envs/precog/lib/python2.7/site-packages/pandas/core/generic.pyc\u001b[0m in \u001b[0;36mastype\u001b[0;34m(self, dtype, copy, raise_on_error, **kwargs)\u001b[0m\n\u001b[1;32m   3052\u001b[0m         \u001b[0;31m# else, only a single dtype is given\u001b[0m\u001b[0;34m\u001b[0m\u001b[0;34m\u001b[0m\u001b[0m\n\u001b[1;32m   3053\u001b[0m         new_data = self._data.astype(dtype=dtype, copy=copy,\n\u001b[0;32m-> 3054\u001b[0;31m                                      raise_on_error=raise_on_error, **kwargs)\n\u001b[0m\u001b[1;32m   3055\u001b[0m         \u001b[0;32mreturn\u001b[0m \u001b[0mself\u001b[0m\u001b[0;34m.\u001b[0m\u001b[0m_constructor\u001b[0m\u001b[0;34m(\u001b[0m\u001b[0mnew_data\u001b[0m\u001b[0;34m)\u001b[0m\u001b[0;34m.\u001b[0m\u001b[0m__finalize__\u001b[0m\u001b[0;34m(\u001b[0m\u001b[0mself\u001b[0m\u001b[0;34m)\u001b[0m\u001b[0;34m\u001b[0m\u001b[0m\n\u001b[1;32m   3056\u001b[0m \u001b[0;34m\u001b[0m\u001b[0m\n",
      "\u001b[0;32m/Users/apple/anaconda2/envs/precog/lib/python2.7/site-packages/pandas/core/internals.pyc\u001b[0m in \u001b[0;36mastype\u001b[0;34m(self, dtype, **kwargs)\u001b[0m\n\u001b[1;32m   3187\u001b[0m \u001b[0;34m\u001b[0m\u001b[0m\n\u001b[1;32m   3188\u001b[0m     \u001b[0;32mdef\u001b[0m \u001b[0mastype\u001b[0m\u001b[0;34m(\u001b[0m\u001b[0mself\u001b[0m\u001b[0;34m,\u001b[0m \u001b[0mdtype\u001b[0m\u001b[0;34m,\u001b[0m \u001b[0;34m**\u001b[0m\u001b[0mkwargs\u001b[0m\u001b[0;34m)\u001b[0m\u001b[0;34m:\u001b[0m\u001b[0;34m\u001b[0m\u001b[0m\n\u001b[0;32m-> 3189\u001b[0;31m         \u001b[0;32mreturn\u001b[0m \u001b[0mself\u001b[0m\u001b[0;34m.\u001b[0m\u001b[0mapply\u001b[0m\u001b[0;34m(\u001b[0m\u001b[0;34m'astype'\u001b[0m\u001b[0;34m,\u001b[0m \u001b[0mdtype\u001b[0m\u001b[0;34m=\u001b[0m\u001b[0mdtype\u001b[0m\u001b[0;34m,\u001b[0m \u001b[0;34m**\u001b[0m\u001b[0mkwargs\u001b[0m\u001b[0;34m)\u001b[0m\u001b[0;34m\u001b[0m\u001b[0m\n\u001b[0m\u001b[1;32m   3190\u001b[0m \u001b[0;34m\u001b[0m\u001b[0m\n\u001b[1;32m   3191\u001b[0m     \u001b[0;32mdef\u001b[0m \u001b[0mconvert\u001b[0m\u001b[0;34m(\u001b[0m\u001b[0mself\u001b[0m\u001b[0;34m,\u001b[0m \u001b[0;34m**\u001b[0m\u001b[0mkwargs\u001b[0m\u001b[0;34m)\u001b[0m\u001b[0;34m:\u001b[0m\u001b[0;34m\u001b[0m\u001b[0m\n",
      "\u001b[0;32m/Users/apple/anaconda2/envs/precog/lib/python2.7/site-packages/pandas/core/internals.pyc\u001b[0m in \u001b[0;36mapply\u001b[0;34m(self, f, axes, filter, do_integrity_check, consolidate, **kwargs)\u001b[0m\n\u001b[1;32m   3054\u001b[0m \u001b[0;34m\u001b[0m\u001b[0m\n\u001b[1;32m   3055\u001b[0m             \u001b[0mkwargs\u001b[0m\u001b[0;34m[\u001b[0m\u001b[0;34m'mgr'\u001b[0m\u001b[0;34m]\u001b[0m \u001b[0;34m=\u001b[0m \u001b[0mself\u001b[0m\u001b[0;34m\u001b[0m\u001b[0m\n\u001b[0;32m-> 3056\u001b[0;31m             \u001b[0mapplied\u001b[0m \u001b[0;34m=\u001b[0m \u001b[0mgetattr\u001b[0m\u001b[0;34m(\u001b[0m\u001b[0mb\u001b[0m\u001b[0;34m,\u001b[0m \u001b[0mf\u001b[0m\u001b[0;34m)\u001b[0m\u001b[0;34m(\u001b[0m\u001b[0;34m**\u001b[0m\u001b[0mkwargs\u001b[0m\u001b[0;34m)\u001b[0m\u001b[0;34m\u001b[0m\u001b[0m\n\u001b[0m\u001b[1;32m   3057\u001b[0m             \u001b[0mresult_blocks\u001b[0m \u001b[0;34m=\u001b[0m \u001b[0m_extend_blocks\u001b[0m\u001b[0;34m(\u001b[0m\u001b[0mapplied\u001b[0m\u001b[0;34m,\u001b[0m \u001b[0mresult_blocks\u001b[0m\u001b[0;34m)\u001b[0m\u001b[0;34m\u001b[0m\u001b[0m\n\u001b[1;32m   3058\u001b[0m \u001b[0;34m\u001b[0m\u001b[0m\n",
      "\u001b[0;32m/Users/apple/anaconda2/envs/precog/lib/python2.7/site-packages/pandas/core/internals.pyc\u001b[0m in \u001b[0;36mastype\u001b[0;34m(self, dtype, copy, raise_on_error, values, **kwargs)\u001b[0m\n\u001b[1;32m    459\u001b[0m                **kwargs):\n\u001b[1;32m    460\u001b[0m         return self._astype(dtype, copy=copy, raise_on_error=raise_on_error,\n\u001b[0;32m--> 461\u001b[0;31m                             values=values, **kwargs)\n\u001b[0m\u001b[1;32m    462\u001b[0m \u001b[0;34m\u001b[0m\u001b[0m\n\u001b[1;32m    463\u001b[0m     def _astype(self, dtype, copy=False, raise_on_error=True, values=None,\n",
      "\u001b[0;32m/Users/apple/anaconda2/envs/precog/lib/python2.7/site-packages/pandas/core/internals.pyc\u001b[0m in \u001b[0;36m_astype\u001b[0;34m(self, dtype, copy, raise_on_error, values, klass, mgr, **kwargs)\u001b[0m\n\u001b[1;32m    502\u001b[0m \u001b[0;34m\u001b[0m\u001b[0m\n\u001b[1;32m    503\u001b[0m                 \u001b[0;31m# _astype_nansafe works fine with 1-d only\u001b[0m\u001b[0;34m\u001b[0m\u001b[0;34m\u001b[0m\u001b[0m\n\u001b[0;32m--> 504\u001b[0;31m                 \u001b[0mvalues\u001b[0m \u001b[0;34m=\u001b[0m \u001b[0m_astype_nansafe\u001b[0m\u001b[0;34m(\u001b[0m\u001b[0mvalues\u001b[0m\u001b[0;34m.\u001b[0m\u001b[0mravel\u001b[0m\u001b[0;34m(\u001b[0m\u001b[0;34m)\u001b[0m\u001b[0;34m,\u001b[0m \u001b[0mdtype\u001b[0m\u001b[0;34m,\u001b[0m \u001b[0mcopy\u001b[0m\u001b[0;34m=\u001b[0m\u001b[0mTrue\u001b[0m\u001b[0;34m)\u001b[0m\u001b[0;34m\u001b[0m\u001b[0m\n\u001b[0m\u001b[1;32m    505\u001b[0m                 \u001b[0mvalues\u001b[0m \u001b[0;34m=\u001b[0m \u001b[0mvalues\u001b[0m\u001b[0;34m.\u001b[0m\u001b[0mreshape\u001b[0m\u001b[0;34m(\u001b[0m\u001b[0mself\u001b[0m\u001b[0;34m.\u001b[0m\u001b[0mshape\u001b[0m\u001b[0;34m)\u001b[0m\u001b[0;34m\u001b[0m\u001b[0m\n\u001b[1;32m    506\u001b[0m \u001b[0;34m\u001b[0m\u001b[0m\n",
      "\u001b[0;32m/Users/apple/anaconda2/envs/precog/lib/python2.7/site-packages/pandas/types/cast.pyc\u001b[0m in \u001b[0;36m_astype_nansafe\u001b[0;34m(arr, dtype, copy)\u001b[0m\n\u001b[1;32m    535\u001b[0m \u001b[0;34m\u001b[0m\u001b[0m\n\u001b[1;32m    536\u001b[0m     \u001b[0;32mif\u001b[0m \u001b[0mcopy\u001b[0m\u001b[0;34m:\u001b[0m\u001b[0;34m\u001b[0m\u001b[0m\n\u001b[0;32m--> 537\u001b[0;31m         \u001b[0;32mreturn\u001b[0m \u001b[0marr\u001b[0m\u001b[0;34m.\u001b[0m\u001b[0mastype\u001b[0m\u001b[0;34m(\u001b[0m\u001b[0mdtype\u001b[0m\u001b[0;34m)\u001b[0m\u001b[0;34m\u001b[0m\u001b[0m\n\u001b[0m\u001b[1;32m    538\u001b[0m     \u001b[0;32mreturn\u001b[0m \u001b[0marr\u001b[0m\u001b[0;34m.\u001b[0m\u001b[0mview\u001b[0m\u001b[0;34m(\u001b[0m\u001b[0mdtype\u001b[0m\u001b[0;34m)\u001b[0m\u001b[0;34m\u001b[0m\u001b[0m\n\u001b[1;32m    539\u001b[0m \u001b[0;34m\u001b[0m\u001b[0m\n",
      "\u001b[0;31mValueError\u001b[0m: could not convert string to float: channel_view_count"
     ]
    }
   ],
   "source": []
  },
  {
   "cell_type": "code",
   "execution_count": null,
   "metadata": {
    "collapsed": true
   },
   "outputs": [],
   "source": []
  }
 ],
 "metadata": {
  "anaconda-cloud": {},
  "kernelspec": {
   "display_name": "Python [conda env:precog]",
   "language": "python",
   "name": "conda-env-precog-py"
  },
  "language_info": {
   "codemirror_mode": {
    "name": "ipython",
    "version": 2
   },
   "file_extension": ".py",
   "mimetype": "text/x-python",
   "name": "python",
   "nbconvert_exporter": "python",
   "pygments_lexer": "ipython2",
   "version": "2.7.13"
  }
 },
 "nbformat": 4,
 "nbformat_minor": 2
}
